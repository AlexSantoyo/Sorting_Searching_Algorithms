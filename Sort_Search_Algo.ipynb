{
 "cells": [
  {
   "cell_type": "markdown",
   "id": "64014e4e",
   "metadata": {},
   "source": [
    "# Sorting and Searching Algorithms"
   ]
  },
  {
   "cell_type": "code",
   "execution_count": 14,
   "id": "6f5a8db3",
   "metadata": {},
   "outputs": [
    {
     "name": "stdout",
     "output_type": "stream",
     "text": [
      "[75, 13, 75, 51, 71, 1, 45, 87, 71, 83]\n"
     ]
    }
   ],
   "source": [
    "# some useful libraries\n",
    "\n",
    "# in order to create a list of integers\n",
    "import random\n",
    "# in order to compare the sorting and searching algorithms\n",
    "import time\n",
    "\n",
    "# nums will contain the array of intergers to sort\n",
    "rand_nums = [random.randint(0,100) for i in range(10)]\n",
    "nums = rand_nums.copy()\n",
    "print(nums)"
   ]
  },
  {
   "cell_type": "markdown",
   "id": "e94429fa",
   "metadata": {},
   "source": [
    "## Insertion sort\n",
    "The idea is to put the $i$-th number in its correct place of the first $i$ elements, with $i$ running from the second to the last element of the list."
   ]
  },
  {
   "cell_type": "code",
   "execution_count": 16,
   "id": "13326050",
   "metadata": {},
   "outputs": [
    {
     "name": "stdout",
     "output_type": "stream",
     "text": [
      "[75, 13, 75, 51, 71, 1, 45, 87, 71, 83]\n",
      "[13, 75, 75, 51, 71, 1, 45, 87, 71, 83]\n",
      "[13, 75, 75, 51, 71, 1, 45, 87, 71, 83]\n",
      "[13, 51, 75, 75, 71, 1, 45, 87, 71, 83]\n",
      "[13, 51, 71, 75, 75, 1, 45, 87, 71, 83]\n",
      "[1, 13, 51, 71, 75, 75, 45, 87, 71, 83]\n",
      "[1, 13, 45, 51, 71, 75, 75, 87, 71, 83]\n",
      "[1, 13, 45, 51, 71, 75, 75, 87, 71, 83]\n",
      "[1, 13, 45, 51, 71, 71, 75, 75, 87, 83]\n",
      "[1, 13, 45, 51, 71, 71, 75, 75, 83, 87]\n"
     ]
    }
   ],
   "source": [
    "def insertion_sort(aList):\n",
    "    for i in range(1,len(aList)):\n",
    "        j = i\n",
    "        # print(aList)\n",
    "        while j>0 and aList[j-1] > aList[j]:\n",
    "            aList[j-1], aList[j] = aList[j], aList[j-1]\n",
    "            j -= 1\n",
    "    return(aList)\n",
    "\n",
    "#print(nums)\n",
    "print(insertion_sort(nums.copy()))"
   ]
  }
 ],
 "metadata": {
  "kernelspec": {
   "display_name": "Python 3 (ipykernel)",
   "language": "python",
   "name": "python3"
  },
  "language_info": {
   "codemirror_mode": {
    "name": "ipython",
    "version": 3
   },
   "file_extension": ".py",
   "mimetype": "text/x-python",
   "name": "python",
   "nbconvert_exporter": "python",
   "pygments_lexer": "ipython3",
   "version": "3.8.8"
  }
 },
 "nbformat": 4,
 "nbformat_minor": 5
}
