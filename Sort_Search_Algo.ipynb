{
 "cells": [
  {
   "cell_type": "markdown",
   "id": "64014e4e",
   "metadata": {},
   "source": [
    "# Sorting and Searching Algorithms"
   ]
  },
  {
   "cell_type": "code",
   "execution_count": 25,
   "id": "6f5a8db3",
   "metadata": {},
   "outputs": [
    {
     "name": "stdout",
     "output_type": "stream",
     "text": [
      "[13, 79, 8, 65, 45]\n"
     ]
    }
   ],
   "source": [
    "# some useful libraries\n",
    "\n",
    "# in order to create a list of integers\n",
    "import random\n",
    "# in order to compare the sorting and searching algorithms\n",
    "import time\n",
    "\n",
    "#set seed\n",
    "#random.seed(123)\n",
    "# nums will contain the array of intergers to sort\n",
    "rand_nums = [random.randint(0,100) for i in range(5)]\n",
    "nums = rand_nums.copy()\n",
    "print(nums)"
   ]
  },
  {
   "cell_type": "markdown",
   "id": "e94429fa",
   "metadata": {},
   "source": [
    "## Insertion sort\n",
    "The idea is to put the $i$-th number in its correct place of the first $i$ elements, with $i$ running from the second to the last element of the list."
   ]
  },
  {
   "cell_type": "code",
   "execution_count": 26,
   "id": "13326050",
   "metadata": {},
   "outputs": [
    {
     "name": "stdout",
     "output_type": "stream",
     "text": [
      "[13, 79, 8, 65, 45]\n",
      "[8, 13, 45, 65, 79]\n"
     ]
    }
   ],
   "source": [
    "def insertion_sort(aList):\n",
    "    for i in range(1,len(aList)):\n",
    "        j = i\n",
    "        # print(aList)\n",
    "        while j>0 and aList[j-1] > aList[j]:\n",
    "            aList[j-1], aList[j] = aList[j], aList[j-1]\n",
    "            j -= 1\n",
    "    return(aList)\n",
    "\n",
    "print(nums)\n",
    "print(insertion_sort(nums.copy()))"
   ]
  },
  {
   "cell_type": "markdown",
   "id": "cebbfb89",
   "metadata": {},
   "source": [
    "## Selection Sort\n",
    "It looks for the mininum in each iteration an put it at the front of the unsorted part of the list."
   ]
  },
  {
   "cell_type": "code",
   "execution_count": 27,
   "id": "f12c40c5",
   "metadata": {},
   "outputs": [
    {
     "name": "stdout",
     "output_type": "stream",
     "text": [
      "[13, 79, 8, 65, 45]\n",
      "[8, 79, 13, 65, 45]\n",
      "[8, 13, 79, 65, 45]\n",
      "[8, 13, 45, 65, 79]\n",
      "[8, 13, 45, 65, 79]\n",
      "[8, 13, 45, 65, 79]\n"
     ]
    }
   ],
   "source": [
    "def selection_sort(aList):\n",
    "    for j in range(len(aList)-1):\n",
    "        imin = j\n",
    "        for i in range(j+1,len(aList)):\n",
    "            if aList[i] < aList[imin]:\n",
    "                imin = i\n",
    "        if imin != j:\n",
    "            aList[j], aList[imin] = aList[imin], aList[j]\n",
    "        print(aList)\n",
    "    return(aList)\n",
    "\n",
    "print(nums)\n",
    "print(selection_sort(nums.copy()))"
   ]
  },
  {
   "cell_type": "code",
   "execution_count": 20,
   "id": "b4795722",
   "metadata": {},
   "outputs": [
    {
     "name": "stdout",
     "output_type": "stream",
     "text": [
      "[0, 1, 2, 3, 4]\n",
      "[1, 2, 3, 4]\n"
     ]
    }
   ],
   "source": [
    "print([i for i in range(5)])\n",
    "print([i for i in range(1,5)])"
   ]
  }
 ],
 "metadata": {
  "kernelspec": {
   "display_name": "Python 3 (ipykernel)",
   "language": "python",
   "name": "python3"
  },
  "language_info": {
   "codemirror_mode": {
    "name": "ipython",
    "version": 3
   },
   "file_extension": ".py",
   "mimetype": "text/x-python",
   "name": "python",
   "nbconvert_exporter": "python",
   "pygments_lexer": "ipython3",
   "version": "3.8.8"
  }
 },
 "nbformat": 4,
 "nbformat_minor": 5
}
